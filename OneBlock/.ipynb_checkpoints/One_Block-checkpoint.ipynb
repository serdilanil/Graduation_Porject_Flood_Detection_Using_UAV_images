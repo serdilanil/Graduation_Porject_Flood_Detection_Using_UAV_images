{
 "cells": [
  {
   "cell_type": "code",
   "execution_count": 1,
   "id": "5b308228",
   "metadata": {},
   "outputs": [],
   "source": [
    "import os\n",
    "import numpy as np\n",
    "import tensorflow as tf\n",
    "import matplotlib.pyplot as plt\n",
    "from tensorflow.keras.preprocessing.image import ImageDataGenerator, load_img, img_to_array\n",
    "from tensorflow.keras.layers import Conv2D, MaxPooling2D, Flatten, Dense, Dropout\n",
    "from tensorflow.keras.models import Sequential\n",
    "from tensorflow.keras.optimizers import Adam\n",
    "from sklearn.model_selection import train_test_split\n",
    "from sklearn.metrics import f1_score, recall_score, accuracy_score, confusion_matrix\n",
    "from PIL import Image, UnidentifiedImageError\n",
    "from tensorflow.keras.callbacks import EarlyStopping, ModelCheckpoint"
   ]
  },
  {
   "cell_type": "code",
   "execution_count": 2,
   "id": "38e7c0d4",
   "metadata": {},
   "outputs": [],
   "source": [
    "data_path = \"C:\\\\Users\\\\serdi\\\\Desktop\\\\Flood_Detection_Final_Project\"\n",
    "class_names = [\"Flood\", \"Not_Flood\"]\n",
    "X, y = [], []\n",
    "\n",
    "for class_name in class_names:\n",
    "    class_path = os.path.join(data_path, class_name)\n",
    "    for image_path in os.listdir(class_path):\n",
    "        try:\n",
    "            img = load_img(os.path.join(class_path, image_path), target_size=(224, 224))\n",
    "            img_array = img_to_array(img)\n",
    "            X.append(img_array)\n",
    "            y.append(0 if class_name == \"Flood\" else 1)\n",
    "        except UnidentifiedImageError:\n",
    "            print(f\"Invalid image file: {os.path.join(class_path, image_path)}\")\n"
   ]
  },
  {
   "cell_type": "code",
   "execution_count": 3,
   "id": "1115fe31",
   "metadata": {},
   "outputs": [],
   "source": [
    "X = np.array(X)\n",
    "y = np.array(y)\n",
    "\n",
    "X_train, X_test, y_train, y_test = train_test_split(X, y, test_size=0.2, stratify=y, random_state=42)\n",
    "X_train, X_val, y_train, y_val = train_test_split(X_train, y_train, test_size=0.25, stratify=y_train, random_state=42)\n",
    "\n",
    "train_datagen = ImageDataGenerator(\n",
    "    rescale=1./255,\n",
    "    rotation_range=45,\n",
    "    width_shift_range=0.25,\n",
    "    height_shift_range=0.25,\n",
    "    shear_range=0.25,\n",
    "    zoom_range=0.3,\n",
    "    channel_shift_range=20,\n",
    "    horizontal_flip=True,\n",
    "    vertical_flip=True,\n",
    "    fill_mode='nearest',\n",
    "    brightness_range=[0.5, 1.5] \n",
    ")\n",
    "\n",
    "val_datagen = ImageDataGenerator(rescale=1./255)\n",
    "test_datagen = ImageDataGenerator(rescale=1./255)"
   ]
  },
  {
   "cell_type": "code",
   "execution_count": 4,
   "id": "34384c09",
   "metadata": {},
   "outputs": [],
   "source": [
    "model = Sequential()\n",
    "model.add(Conv2D(64, (3, 3), activation='relu', input_shape=(224, 224, 3)))\n",
    "model.add(MaxPooling2D((2, 2)))\n",
    "model.add(Flatten())\n",
    "model.add(Dense(1, activation='sigmoid'))\n",
    "\n",
    "optimizer = Adam(lr=0.0001)\n",
    "model.compile(optimizer=optimizer, loss='binary_crossentropy', metrics=['accuracy'])\n",
    "\n",
    "early_stopping = EarlyStopping(\n",
    "    monitor='val_loss',\n",
    "    patience=5,\n",
    "    verbose=1,\n",
    "    restore_best_weights=True\n",
    ")\n",
    "\n",
    "model_checkpoint = ModelCheckpoint(\n",
    "    filepath='best_weights.h5',\n",
    "    monitor='val_loss',\n",
    "    save_best_only=True\n",
    ")\n"
   ]
  },
  {
   "cell_type": "code",
   "execution_count": 5,
   "id": "a3931d02",
   "metadata": {
    "scrolled": true
   },
   "outputs": [
    {
     "ename": "NameError",
     "evalue": "name 'train_generator' is not defined",
     "output_type": "error",
     "traceback": [
      "\u001b[1;31m---------------------------------------------------------------------------\u001b[0m",
      "\u001b[1;31mNameError\u001b[0m                                 Traceback (most recent call last)",
      "Input \u001b[1;32mIn [5]\u001b[0m, in \u001b[0;36m<cell line: 1>\u001b[1;34m()\u001b[0m\n\u001b[0;32m      1\u001b[0m history \u001b[38;5;241m=\u001b[39m model\u001b[38;5;241m.\u001b[39mfit(\n\u001b[1;32m----> 2\u001b[0m     \u001b[43mtrain_generator\u001b[49m,\n\u001b[0;32m      3\u001b[0m     steps_per_epoch\u001b[38;5;241m=\u001b[39msteps_per_epoch,\n\u001b[0;32m      4\u001b[0m     epochs\u001b[38;5;241m=\u001b[39m\u001b[38;5;241m30\u001b[39m,\n\u001b[0;32m      5\u001b[0m     validation_data\u001b[38;5;241m=\u001b[39mval_generator,\n\u001b[0;32m      6\u001b[0m     validation_steps\u001b[38;5;241m=\u001b[39mvalidation_steps,\n\u001b[0;32m      7\u001b[0m     callbacks\u001b[38;5;241m=\u001b[39m[early_stopping, model_checkpoint]\n\u001b[0;32m      8\u001b[0m )\n\u001b[0;32m     10\u001b[0m test_generator \u001b[38;5;241m=\u001b[39m test_datagen\u001b[38;5;241m.\u001b[39mflow(X_test, y_test, batch_size\u001b[38;5;241m=\u001b[39m\u001b[38;5;241m32\u001b[39m, shuffle\u001b[38;5;241m=\u001b[39m\u001b[38;5;28;01mTrue\u001b[39;00m)\n\u001b[0;32m     11\u001b[0m y_pred_probs \u001b[38;5;241m=\u001b[39m model\u001b[38;5;241m.\u001b[39mpredict(test_generator, steps\u001b[38;5;241m=\u001b[39m\u001b[38;5;28mlen\u001b[39m(X_test) \u001b[38;5;241m/\u001b[39m\u001b[38;5;241m/\u001b[39m \u001b[38;5;241m32\u001b[39m)\n",
      "\u001b[1;31mNameError\u001b[0m: name 'train_generator' is not defined"
     ]
    }
   ],
   "source": [
    "train_generator = train_datagen.flow(X_train, y_train, batch_size=32, shuffle=True)\n",
    "val_generator = val_datagen.flow(X_val, y_val, batch_size=32, shuffle=True)\n",
    "\n",
    "history = model.fit(\n",
    "    train_generator,\n",
    "    steps_per_epoch=len(X_train) // 32,\n",
    "    epochs=30,\n",
    "    validation_data=val_generator,\n",
    "    validation_steps=len(X_val) // 32,\n",
    "    callbacks=[early_stopping, model_checkpoint]\n",
    ")\n",
    "test_generator = test_datagen.flow(X_test, y_test, batch_size=32, shuffle=True)\n",
    "y_pred_probs = model.predict(test_generator, steps=len(X_test) // 32)\n",
    "y_pred = np.where(y_pred_probs > 0.5, 1, 0)"
   ]
  },
  {
   "cell_type": "code",
   "execution_count": null,
   "id": "ba121e1b",
   "metadata": {},
   "outputs": [],
   "source": [
    "\n",
    "test_acc = accuracy_score(y_test[:len(y_pred)], y_pred)\n",
    "test_recall =recall_score(y_test[:len(y_pred)], y_pred)\n",
    "test_f1 = f1_score(y_test[:len(y_pred)], y_pred)\n",
    "conf_matrix = confusion_matrix(y_test[:len(y_pred)], y_pred)\n",
    "\n",
    "print(\"Test Accuracy: {:.2f}%\".format(test_acc * 100))\n",
    "print(\"Recall: {:.2f}\".format(test_recall))\n",
    "print(\"F1 Score: {:.2f}\".format(test_f1))\n",
    "print(\"Confusion Matrix:\\n\", conf_matrix)\n",
    "\n",
    "def plot_training_history(history):\n",
    "acc = history.history['accuracy']\n",
    "val_acc = history.history['val_accuracy']\n",
    "loss = history.history['loss']\n",
    "val_loss = history.history['val_loss']\n",
    "epochs = range(len(acc))"
   ]
  },
  {
   "cell_type": "code",
   "execution_count": null,
   "id": "0ab47d5e",
   "metadata": {},
   "outputs": [],
   "source": [
    "plt.plot(epochs, acc, 'b', label='Training Accuracy')\n",
    "plt.plot(epochs, val_acc, 'r', label='Validation Accuracy')\n",
    "plt.title('Training and Validation Accuracy')\n",
    "plt.legend()\n",
    "plt.figure()\n",
    "\n",
    "plt.plot(epochs, loss, 'b', label='Training Loss')\n",
    "plt.plot(epochs, val_loss, 'r', label='Validation Loss')\n",
    "plt.title('Training and Validation Loss')\n",
    "plt.legend()\n",
    "plt.show()\n",
    "plot_training_history(history)\n"
   ]
  },
  {
   "cell_type": "code",
   "execution_count": null,
   "id": "4cdeb420",
   "metadata": {},
   "outputs": [],
   "source": [
    "def predict_image(img_path):\n",
    "img = load_img(img_path, target_size=(224, 224))\n",
    "x = img_to_array(img)\n",
    "x = np.expand_dims(x, axis=0)\n",
    "x = x / 255.0\n",
    "preds = model.predict(x)\n",
    "return preds[0][0]\n",
    "\n",
    "new_image_path = \"flo.png\"\n",
    "prediction = predict_image(new_image_path)\n",
    "\n",
    "img = load_img(new_image_path)\n",
    "plt.imshow(img)\n",
    "plt.axis('off')\n",
    "plt.show()\n",
    "\n",
    "if prediction > 0.5:\n",
    "print(\"Prediction: Flood\")\n",
    "else:\n",
    "print(\"Prediction: Not Flood\")\n",
    "\n",
    "print(\"Value: {:.4f}\".format(prediction))"
   ]
  }
 ],
 "metadata": {
  "kernelspec": {
   "display_name": "Python 3 (ipykernel)",
   "language": "python",
   "name": "python3"
  },
  "language_info": {
   "codemirror_mode": {
    "name": "ipython",
    "version": 3
   },
   "file_extension": ".py",
   "mimetype": "text/x-python",
   "name": "python",
   "nbconvert_exporter": "python",
   "pygments_lexer": "ipython3",
   "version": "3.8.13"
  }
 },
 "nbformat": 4,
 "nbformat_minor": 5
}
